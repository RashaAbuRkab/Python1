{
  "nbformat": 4,
  "nbformat_minor": 0,
  "metadata": {
    "kernelspec": {
      "display_name": "Python 3",
      "language": "python",
      "name": "python3"
    },
    "language_info": {
      "codemirror_mode": {
        "name": "ipython",
        "version": 3
      },
      "file_extension": ".py",
      "mimetype": "text/x-python",
      "name": "python",
      "nbconvert_exporter": "python",
      "pygments_lexer": "ipython3",
      "version": "3.9.1"
    },
    "latex_envs": {
      "LaTeX_envs_menu_present": true,
      "autoclose": false,
      "autocomplete": true,
      "bibliofile": "biblio.bib",
      "cite_by": "apalike",
      "current_citInitial": 1,
      "eqLabelWithNumbers": true,
      "eqNumInitial": 1,
      "hotkeys": {
        "equation": "Ctrl-E",
        "itemize": "Ctrl-I"
      },
      "labels_anchors": false,
      "latex_user_defs": false,
      "report_style_numbering": false,
      "user_envs_cfg": false
    },
    "toc": {
      "base_numbering": 1,
      "nav_menu": {},
      "number_sections": true,
      "sideBar": true,
      "skip_h1_title": false,
      "title_cell": "Table of Contents",
      "title_sidebar": "Contents",
      "toc_cell": false,
      "toc_position": {},
      "toc_section_display": true,
      "toc_window_display": false
    },
    "varInspector": {
      "cols": {
        "lenName": 16,
        "lenType": 16,
        "lenVar": 40
      },
      "kernels_config": {
        "python": {
          "delete_cmd_postfix": "",
          "delete_cmd_prefix": "del ",
          "library": "var_list.py",
          "varRefreshCmd": "print(var_dic_list())"
        },
        "r": {
          "delete_cmd_postfix": ") ",
          "delete_cmd_prefix": "rm(",
          "library": "var_list.r",
          "varRefreshCmd": "cat(var_dic_list()) "
        }
      },
      "position": {
        "height": "492.181px",
        "left": "1182.67px",
        "right": "20px",
        "top": "22px",
        "width": "488px"
      },
      "types_to_exclude": [
        "module",
        "function",
        "builtin_function_or_method",
        "instance",
        "_Feature"
      ],
      "window_display": false
    },
    "colab": {
      "provenance": []
    }
  },
  "cells": [
    {
      "cell_type": "markdown",
      "metadata": {
        "id": "73W4I5vz5z6n"
      },
      "source": [
        "### DSAI 1302 Homework \\#2 (Due Saturday November 27, 2021 at midnight)\n",
        "- Please note the following regarding homework submissions:\n",
        "    - No email submissions will be accepted under any circumstances.\n",
        "    - The deadline for all homework assignments will be at midnight.\n",
        "    - The submission after the deadline will be opened for 6 hours (i.e. until 6:00am next morning) and submissions will be marked as Late. However, you will not lose any marks because of that.\n",
        "    - After 6:00am, submission will be closed. Failure to submit before that time results in an automatic zero.\n",
        "    \n",
        "## Instructions:\n",
        "- Solve Questions 1,2 and 3 in the respective cells below. __Make sure you fill in any place that says `YOUR CODE HERE`.__\n",
        "- __Make sure that your program output matches the sample runs in all Questions.__\n",
        "- Also, make sure that you use the **same strings in the print statements** of all questions.\n",
        "- After you are done writing your code, save your jupyter notebook and close it.  Then, submit it from its folder to Google Classroom \n",
        "\n",
        "- The grade distribution is as follows:\n",
        "    - Question 1: \n",
        "        - Correct Code: 30 points.\n",
        "        - Programming style (comments and variable names): 5 points\n",
        "    - Question 2:\n",
        "        - Correct Code: 20 points.\n",
        "        - Programming style (comments and variable names): 5 points     \n",
        "    - Question 3:\n",
        "        - Correct Code: 35 points.\n",
        "        - Programming style (comments and variable names): 5 points\n",
        "\n",
        "### Note:\n",
        "- You should write comments to help other programmers understand your code.\n",
        "- Do not use magic numbers and define the constants value as a constant variable.\n",
        "- Name your variables based on Variable Naming Conventions rules."
      ]
    },
    {
      "cell_type": "markdown",
      "metadata": {
        "id": "8lXgchSr5z67"
      },
      "source": [
        "## Question 1 ( 35 points)\n",
        "Write a program that calculates the total grade for N exercises as a percentage. <br> The user\n",
        "should input the value for N followed by each of the N scores and the maximum possible score for that exercise. <br>\n",
        "Calculate the overall percentage (sum of the total points earned divided by the total points\n",
        "possible) and output the total and percentage showing two decimal points. <br>\n",
        "**Note:** You can assume that the user will provide a valid input for all requests in this problem."
      ]
    },
    {
      "cell_type": "markdown",
      "metadata": {
        "id": "k-Zl7xMr5z69"
      },
      "source": [
        "### Sample Program run:\n",
        ">How many exercises to input? 3 <br>\n",
        "Enter score received for exercise 1: 10 <br>\n",
        "Enter total points possible for exercise 1: 10 <br>\n",
        "Enter score received for exercise 2: 7 <br>\n",
        "Enter total points possible for exercise 2: 12 <br>\n",
        "Enter Score received for exercise 3: 5 <br>\n",
        "Enter total points possible for exercise 3: 8 <br>\n",
        "Your total is 22.00 out of 30.00, or 73.33%. <br>"
      ]
    },
    {
      "cell_type": "code",
      "metadata": {
        "colab": {
          "base_uri": "https://localhost:8080/"
        },
        "id": "fINTQWDC5z6_",
        "outputId": "4c286db8-aef8-4b20-ff18-8613d2ae33a1"
      },
      "source": [
        "# This program calculates the total and percentage of a number scores \n",
        "N= int(input(\"How many exercises to input? \" ))    # the value The user input it \n",
        "sum1 = 0                      # Total marks due\n",
        "sum2 = 0                      # The sum of the original marks\n",
        "i = 1    #variable                                          \n",
        "while i :\n",
        "    if i > N :\n",
        "        break\n",
        "    else :\n",
        "        i = i+ 1 \n",
        "        score = (input(\"Enter score received for exercise \" + str(i - 1) + \":\" )  )\n",
        "        tot = (input(\"Enter total points possible for exercise \"  + str(i - 1) + \":\" )  ) \n",
        "        sum1 = sum1 + int(score)\n",
        "        sum2 = sum2 + int(tot)\n",
        "averang = round((sum1 / N)*10 , 2 )\n",
        "print(\"Your total is\" , sum1 , \"out of\" , sum2 , \"or\" , averang , \"%\" )\n"
      ],
      "execution_count": null,
      "outputs": [
        {
          "output_type": "stream",
          "name": "stdout",
          "text": [
            "How many exercises to input? 3\n",
            "Enter score received for exercise 1:10\n",
            "Enter total points possible for exercise 1:10\n",
            "Enter score received for exercise 2:7\n",
            "Enter total points possible for exercise 2:12\n",
            "Enter score received for exercise 3:5\n",
            "Enter total points possible for exercise 3:8\n",
            "Your total is 22 out of 30 or 73.33 %\n"
          ]
        }
      ]
    },
    {
      "cell_type": "markdown",
      "metadata": {
        "id": "NwsZ7t0f5z7E"
      },
      "source": [
        "## Question 2 (25 points)  \n",
        "When you use an automated teller machine (ATM) with your bank card, you need to use a personal identification number (PIN) to access your account. If a user fails more than **three times** when entering the PIN, the machine will block the card.\n",
        "Assume that the user's PIN is **\"1234\"** and write a program that asks the user for the PIN no more than three times, and does the following:\n",
        "- If the user enters the right number, print a message saying, \"Your PIN is correct\", and end the program.\n",
        "- If the user enters a wrong number, print a message saying, \"Your PIN is incorrect\" and, if you have asked for the PIN less than three times, ask for it again.\n",
        "- If the user enters a wrong number three times, print a message saying \"Your bank card is blocked\" and end the program.\n",
        "\n",
        "**Note:** You can assume that the user will always enter digits only as input for this problem.\n",
        "\n",
        "### Sample Program run :\n",
        "**Sample run #1** <br>\n",
        ">Enter your PIN: 1122 <br>\n",
        "Your PIN is incorrect.<br>\n",
        "Enter your PIN: 1234 <br>\n",
        "Your PIN is correct. <br>\n",
        "\n",
        "**Sample run #2** <br>\n",
        ">Enter your PIN: 4531 <br>\n",
        "Your PIN is incorrect.<br>\n",
        "Enter your PIN: 5214 <br>\n",
        "Your PIN is incorrect.<br>\n",
        "Enter your PIN: 1478 <br>\n",
        "Your bank card is blocked.<br>\n",
        "\n"
      ]
    },
    {
      "cell_type": "code",
      "metadata": {
        "colab": {
          "base_uri": "https://localhost:8080/"
        },
        "id": "dGFoGTMf5z7L",
        "outputId": "b68134ed-398b-4ee3-e175-7169bd7209e4"
      },
      "source": [
        "# This program asks the user to enter PIN number for a maximum of three times then block the card\n",
        "PIN = \"1234\"                      # constant\n",
        "num = input(\"Enter your PIN:\")    # the value The user input it\n",
        "i = 1\n",
        "while i :\n",
        "    if num == PIN :\n",
        "        print(\"Your PIN is correct.\")\n",
        "        i = i + 1 \n",
        "        break\n",
        "    else :\n",
        "        if i < 3 :\n",
        "            print(\"Your PIN is incorrect.\")\n",
        "            i = i + 1 \n",
        "            num = input(\"Enter your PIN:\")\n",
        "        else :\n",
        "            print(\"Your bank card is blocked.\")\n",
        "            break"
      ],
      "execution_count": null,
      "outputs": [
        {
          "output_type": "stream",
          "name": "stdout",
          "text": [
            "Enter your PIN:1122\n",
            "Your PIN is incorrect.\n",
            "Enter your PIN:1234\n",
            "Your PIN is correct.\n"
          ]
        }
      ]
    },
    {
      "cell_type": "code",
      "metadata": {
        "colab": {
          "base_uri": "https://localhost:8080/"
        },
        "id": "zafyeMyy6jm_",
        "outputId": "0b0296a1-ee23-4827-cb03-5cd5540a3f20"
      },
      "source": [
        "PIN = \"1234\"                      # constant\n",
        "num = input(\"Enter your PIN:\")    # the value The user input it\n",
        "i = 1\n",
        "while i :\n",
        "    if num == PIN :\n",
        "        print(\"Your PIN is correct.\")\n",
        "        i = i + 1 \n",
        "        break\n",
        "    else :\n",
        "        if i < 3 :\n",
        "            print(\"Your PIN is incorrect.\")\n",
        "            i = i + 1 \n",
        "            num = input(\"Enter your PIN:\")\n",
        "        else :\n",
        "            print(\"Your bank card is blocked.\")\n",
        "            break\n",
        "    "
      ],
      "execution_count": null,
      "outputs": [
        {
          "output_type": "stream",
          "name": "stdout",
          "text": [
            "Enter your PIN:4531\n",
            "Your PIN is incorrect.\n",
            "Enter your PIN:5214\n",
            "Your PIN is incorrect.\n",
            "Enter your PIN:1478\n",
            "Your bank card is blocked.\n"
          ]
        }
      ]
    },
    {
      "cell_type": "markdown",
      "metadata": {
        "id": "m26SX2Gr5z7N"
      },
      "source": [
        "### Question 3 (40 points)  \n",
        "One way to estimate the adult height of a child is to use the following formula,\n",
        "which uses the height of the parents: <br>\n",
        "H<sub>male_child</sub> = ((H<sub>mother</sub> X 13/12) + H<sub>father</sub>) /2 <br>\n",
        "H<sub>female_child</sub> = ((H<sub>father</sub> X 12/13) + H<sub>mother</sub>) /2 <br>\n",
        " Write a program that takes as input the gender of the child, the height of the father, and the height of the mother,\n",
        "and outputs the estimated adult height of the child. All heights in the formula are in inches. <br>\n",
        "\n",
        "The program should validate the user input as follows: <br>\n",
        "for gender: M for male or F for female, a small case letters are also allowed. <br>\n",
        "for height: a positive number (zero or negative height are not accepted, non-numeric charachers are not accepted too).<br>\n",
        "if the user input for any variable is invalid, the program should print the following error message:<br>\n",
        "\"Invalid value, please try again.\" <br>\n",
        "and prompt the user for input again until a valid input is recieved.\n",
        "\n",
        "\n",
        "### Sample Program run:\n",
        "**Sample run #1** <br>\n",
        ">Enter the gender of the child: M for male or F for female: f <br>\n",
        "Enter father's height in inches: 60<br>\n",
        "Enter mother's height in inches: 55<br>\n",
        "The predicted height of the child is: 55.19 inches.<br> \n",
        "\n",
        "**Sample run #2** <br>\n",
        ">Enter the gender of the child: M for male or F for female: f <br>\n",
        "Enter father's height in inches: -60<br>\n",
        "Invalid value, please try again. <br>\n",
        "Enter father's height in inches: 0<br>\n",
        "Invalid value, please try again. <br>\n",
        "Enter father's height in inches: 60<br>\n",
        "Enter mother's height in inches: fifty five<br>\n",
        "Invalid value, please try again. <br>\n",
        "Enter mother's height in inches: 55<br>\n",
        "The predicted height of the child is: 55.19 inches.<br> "
      ]
    },
    {
      "cell_type": "code",
      "metadata": {
        "colab": {
          "base_uri": "https://localhost:8080/"
        },
        "id": "ROLgayT85z7Q",
        "outputId": "e1dd2300-4692-4077-8158-2e8ed38e75e4"
      },
      "source": [
        "# This program computes the predicted height of a child based on the heights of the parents.\n",
        "child = input(\"Enter the gender of the child: M for male or F for female:\")\n",
        "father = (input(\"Enter father's height in inches:\"))\n",
        "while father :\n",
        "    if \"a\"<= father and father <= \"z\" or \"A\"<=father and father <= \"Z\" :\n",
        "        print(\"Invalid value, please try again.\")\n",
        "        father = (input(\"Enter father's height in inches:\"))\n",
        "    elif int(father) <= 0 :\n",
        "        print(\"Invalid value, please try again.\")\n",
        "        father = (input(\"Enter father's height in inches:\"))\n",
        "    else :\n",
        "        mother = (input(\"Enter mother's height in inches:\"))\n",
        "        while mother :\n",
        "            if \"a\"<= mother and  mother <= \"z\" or \"A\"<= mother and  mother <= \"Z\" :\n",
        "                print(\"Invalid value, please try again.\")\n",
        "                mother = (input(\"Enter mother's height in inches:\"))\n",
        "            elif int(mother) <= 0 :\n",
        "                print(\"Invalid value, please try again.\") \n",
        "                mother = (input(\"Enter mother's height in inches:\"))\n",
        "            else :\n",
        "                if child == \"m\" or child==\"M\" :\n",
        "                    Hmale_child = round(((int(mother) * (13/12) ) + int(father)) / 2 , 2 )\n",
        "                    print (\"The predicted height of the child is:\" , Hmale_child , \"inches.\" )\n",
        "                    break\n",
        "                else :\n",
        "                    Hfemale_child = round((( int(father) * (12/13) ) + int(mother)) / 2 , 2)\n",
        "                    print (\"The predicted height of the child is:\" , Hfemale_child , \"inches.\" )\n",
        "                    break \n",
        "        break        \n"
      ],
      "execution_count": null,
      "outputs": [
        {
          "output_type": "stream",
          "name": "stdout",
          "text": [
            "Enter the gender of the child: M for male or F for female:f\n",
            "Enter father's height in inches:60\n",
            "Enter mother's height in inches:55\n",
            "The predicted height of the child is: 55.19 inches.\n"
          ]
        }
      ]
    },
    {
      "cell_type": "code",
      "metadata": {
        "colab": {
          "base_uri": "https://localhost:8080/"
        },
        "id": "BBHCo9qJ63LW",
        "outputId": "f85c9a4c-d21f-414c-dc41-77a91f6b4aa1"
      },
      "source": [
        "child = input(\"Enter the gender of the child: M for male or F for female:\")\n",
        "father = (input(\"Enter father's height in inches:\"))\n",
        "while father :\n",
        "    if \"a\"<= father and father <= \"z\" or \"A\"<=father and father <= \"Z\" :\n",
        "        print(\"Invalid value, please try again.\")\n",
        "        father = (input(\"Enter father's height in inches:\"))\n",
        "    elif int(father) <= 0 :\n",
        "        print(\"Invalid value, please try again.\")\n",
        "        father = (input(\"Enter father's height in inches:\"))\n",
        "    else :\n",
        "        mother = (input(\"Enter mother's height in inches:\"))\n",
        "        while mother :\n",
        "            if \"a\"<= mother and  mother <= \"z\" or \"A\"<= mother and  mother <= \"Z\" :\n",
        "                print(\"Invalid value, please try again.\")\n",
        "                mother = (input(\"Enter mother's height in inches:\"))\n",
        "            elif int(mother) <= 0 :\n",
        "                print(\"Invalid value, please try again.\") \n",
        "                mother = (input(\"Enter mother's height in inches:\"))\n",
        "            else :\n",
        "                if child == \"m\" or child==\"M\" :\n",
        "                    Hmale_child = round(((int(mother) * (13/12) ) + int(father)) / 2 , 2 )\n",
        "                    print (\"The predicted height of the child is:\" , Hmale_child , \"inches.\" )\n",
        "                    break\n",
        "                else :\n",
        "                    Hfemale_child = round((( int(father) * (12/13) ) + int(mother)) / 2 , 2)\n",
        "                    print (\"The predicted height of the child is:\" , Hfemale_child , \"inches.\" )\n",
        "                    break \n",
        "        break        "
      ],
      "execution_count": null,
      "outputs": [
        {
          "output_type": "stream",
          "name": "stdout",
          "text": [
            "Enter the gender of the child: M for male or F for female:f\n",
            "Enter father's height in inches:-60\n",
            "Invalid value, please try again.\n",
            "Enter father's height in inches:0\n",
            "Invalid value, please try again.\n",
            "Enter father's height in inches:60\n",
            "Enter mother's height in inches:fifty five\n",
            "Invalid value, please try again.\n",
            "Enter mother's height in inches:55\n",
            "The predicted height of the child is: 55.19 inches.\n"
          ]
        }
      ]
    },
    {
      "cell_type": "markdown",
      "metadata": {
        "id": "YbpSoXWN5z7W"
      },
      "source": [
        "# End of the Homework\n",
        "Good luck..."
      ]
    }
  ]
}