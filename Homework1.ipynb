{
  "nbformat": 4,
  "nbformat_minor": 0,
  "metadata": {
    "colab": {
      "provenance": []
    },
    "kernelspec": {
      "name": "python3",
      "display_name": "Python 3"
    },
    "language_info": {
      "name": "python"
    }
  },
  "cells": [
    {
      "cell_type": "markdown",
      "metadata": {
        "id": "P8KajMEgF7Hq"
      },
      "source": [
        "## Question 1 ( 35 points)\n",
        "A geometric solid capsule is a sphere of radius **r** that has been cut in half through the centre and the 2 ends are then separated by a cylinder of radius **r** and height (or side length) of **a**.<br>\n",
        "Write a python program that prompts for and reads the **Circumference** [in cm] and **height** (or side length) **a** [in cm] of a Capsule, it then calculates and displays the **volume** and **surface area** of Capsule. The **volume** and the **surface area** must be displayed with an appropriate message and in **two decimal places**. \n",
        "Your program must define $\\pi$  as a constant with the value **3.141592**."
      ]
    },
    {
      "cell_type": "markdown",
      "metadata": {
        "id": "C-jXTfWzGLzl"
      },
      "source": [
        "The volume, circumference, and surface area of a capsule are calculated by the following formulas:\n",
        "<br><br>\n",
        "\n",
        "<div align=\"center\">\n",
        "$\\begin{aligned}\n",
        "&\\text{Volume} =\\pi r^2(\\frac{4}{3}r+a) \\\\\n",
        "\\\\\n",
        "&\\text{Circumference} =2\\pi r \\\\\n",
        "\\\\\n",
        "&\\text{Surface Area} =2\\pi \\ r(2 r + a) \\\\\n",
        "\\end{aligned}$</div>"
      ]
    },
    {
      "cell_type": "markdown",
      "metadata": {
        "id": "6xBiV24PGZVt"
      },
      "source": [
        "### Sample Program run:\n",
        ">Enter the value of Circumference of a Capsule [cm]: 5.53 <br>\n",
        "Enter the value of height (or side length) of a Capsule [cm]: 9 <br>\n",
        "The radius of Hemisphere is 0.88  [cm] <br>\n",
        "Volume of Capsule :24.76  [cm^3] <br>\n",
        "Surface Area of Capsule 59.50 [cm^2] <br>\n"
      ]
    },
    {
      "cell_type": "code",
      "metadata": {
        "colab": {
          "base_uri": "https://localhost:8080/"
        },
        "id": "aBqtdLRQGkv0",
        "outputId": "472d18f4-3e30-4674-fce1-e2e26c784f51"
      },
      "source": [
        "\n",
        "\n",
        "# This program calculates the olume and surface area of Capsule\n",
        "# This program calculates the The volume, circumference  of Capsule\n",
        "# The symbol r indicates the radius of the solid capsule and the symbol a indicates the height of the solid capsule.\n",
        "# YOUR CODE HERE\n",
        "PI = 3.141592\n",
        "r = 0.88\n",
        "userInterput =  input( \"Enter the value of Circumference of a Capsule [cm]\")\n",
        "Circumference = userInterput \n",
        "userInterput = input(\"Enter the value of height (or side length) of a Capsule [cm]\")\n",
        "a = int(userInterput)\n",
        "Volume = round ((PI * r * r) * ((4/3 * r ) + a ) , 2 )\n",
        "SurfaceArea = round (( 2 * PI * r *( a + (2* r))) , 2 )\n",
        "Circumference = 2 * PI * r\n",
        "print (\"Circumference =\" , Circumference ,\"cm\" )\n",
        "print (\"a =\" , a , \"cm\")\n",
        "print ( \"Volume =\", Volume , )\n",
        "print (  \"SurfaceArea =\", SurfaceArea )"
      ],
      "execution_count": null,
      "outputs": [
        {
          "output_type": "stream",
          "name": "stdout",
          "text": [
            "Enter the value of Circumference of a Capsule [cm]5.53\n",
            "Enter the value of height (or side length) of a Capsule [cm]9\n",
            "Circumference = 5.52920192 cm\n",
            "a = 9 cm\n",
            "Volume = 24.75\n",
            "SurfaceArea = 59.49\n"
          ]
        }
      ]
    },
    {
      "cell_type": "markdown",
      "metadata": {
        "id": "bxbwtxLxG2qN"
      },
      "source": [
        "## Question 2 (25 points)  \n",
        "Write a program that calculates the speed of sound in ideal gas of given temperature **T**, adiabatic constant **γ** and average molecular mass **M**. <br>Formula to compute the speed of sound in ideal gas in m/sec:\n",
        "\n",
        "$$ Speed\\ of\\ Sound = \\sqrt{ \\frac{γ R T}{M}}$$\n",
        "\n",
        "Where:\n",
        "- R = the universal gas constant = 8.314 J/mol K\n",
        "- T = the absolute temperature\n",
        "- M = the molecular weight of the gas in kg/mol\n",
        "- γ = the adiabatic constant, characteristic of the specific gas\n",
        "\n",
        "Your program should ask user to enter the absolute temperature in kelvin,the molecular weight of the gas in kg/mol and the adiabatic constant, it then calculates and displays the speed of sound of gas.\n",
        "\n",
        "### Sample Program run:\n",
        ">Enter the absolute temperature in kelvin: 300 <br>\n",
        "Enter molecular weight of the gas in kg/mol: 0.02895 <br>\n",
        "Enter adiabatic constant of the gas: 1.4 <br>\n",
        "Speed of Sound in ideal gas = 347.300 m/s <br>"
      ]
    },
    {
      "cell_type": "code",
      "metadata": {
        "colab": {
          "base_uri": "https://localhost:8080/"
        },
        "id": "sdhNMrM85HF6",
        "outputId": "59d71557-e9f1-498d-cfbc-2190b171072d"
      },
      "source": [
        "# This program computes the speed of sound in ideal gas\n",
        "# R = the universal gas constant = 8.314 J/mol K\n",
        "R = 8.314\n",
        "userInterput = input(\"Enter the absolute temperature in kelvin = \")\n",
        "T = float (userInterput)\n",
        "userInterput = input(\"Enter molecular weight of the gas in kg/mol = \")\n",
        "M = float ( userInterput)\n",
        "userInterput = input(\"Enter adiabatic constant of the gas = \")\n",
        "γ =  float(userInterput) \n",
        "from math import sqrt\n",
        "SpeedofSound = (sqrt(γ*R*T / M))\n",
        "print (\"Speed of Sound in ideal gas=\", SpeedofSound)"
      ],
      "execution_count": null,
      "outputs": [
        {
          "output_type": "stream",
          "name": "stdout",
          "text": [
            "Enter the absolute temperature in kelvin = 300\n",
            "Enter molecular weight of the gas in kg/mol = 0.02895\n",
            "Enter adiabatic constant of the gas = 1.4\n",
            "Speed of Sound in ideal gas= 347.3004701700113\n"
          ]
        }
      ]
    },
    {
      "cell_type": "markdown",
      "metadata": {
        "id": "hFx2vXcyHIWD"
      },
      "source": [
        "## Question 3 (40 points)  \n",
        "Write a program that computes a customer’s monthly electricity bill.The bill includes a **10 (Riyals)** monthly fee of meter,15% tax on the total consumption cost, and plus the cost of electricity consumption per kilowatt/hour based on the New Electricity Tariffs for all categories of consumption.\n",
        "\n",
        "The program asks the user to input customer’s name, the bill actual number of days, amount of electricity consumption, and then the total cost of electricity consumption is calculated based on the following Consumption categories. \n",
        "\n",
        "|#        | Consumption categories (per month)| (Halalah / kwh)   |\n",
        "|:-------:| :---------------------------------|:----------------: |\n",
        "|1        | 1 to 6000                         |  18               |\n",
        "|2        | More than 6000                    |  30               |\n",
        "\n",
        "And by the following formulas (In case consumption exceeds consumption of first category):\n",
        "<div align=\"center\">\n",
        "$\\begin{aligned}\n",
        "&\\text{Consumption of the first category} =\\text{Actual number of days} * \\frac{6000}{30} \\\\\n",
        "&\\text{Consumption of the second category} =\\text{Amount of electricity consumption} - \\text{Consumption of the first category} \\\\\n",
        "&\\text{Total consumption cost} =\\text{Consumption of the first category} *\\frac{18}{100}+\\text{Consumption for the second category} * \\frac{30}{100} \\\\ \n",
        "&\\text{Tax} = \\text{Total consumption cost}* \\text{Tax rate} \\\\\n",
        "&\\text{Bill amount} =\\text{Monthly fee of meter} +\\text{Total consumption cost} + \\text{Tax} \\\\\n",
        "\\end{aligned}$ \n",
        "</div>\n",
        "\n",
        "### Note: \n",
        ">**In case consumption does not exceed that of first category, then the bill will be based on 18 halalh/kwh only.**\n",
        "\n",
        "\n",
        "### Sample Program run:\n",
        "**Sample run #1** <br>\n",
        ">Enter your name: Ali<br>\n",
        "Enter your bill actual number of days: 27<br>\n",
        "Enter your amount of electricity consumption: 7000<br>\n",
        "Mr. Ali, your bill amount is 1679.80 SAR<br>\n",
        "(1452.00 SAR total consumption cost, 217.80 SAR tax,and 10.00 SAR monthly meter service)<br> \n",
        "\n",
        "**Sample run #2** <br>\n",
        ">Enter your name: Khaled<br>\n",
        "Enter your bill actual number of days: 28<br>\n",
        "Enter your amount of electricity consumption: 5000<br>\n",
        "Mr. Khaled, your bill amount is 1045.00 SAR<br>\n",
        "(900.00 SAR total consumption cost, 135.00 SAR tax,and 10.00 SAR monthly meter service)<br> "
      ]
    },
    {
      "cell_type": "code",
      "metadata": {
        "colab": {
          "base_uri": "https://localhost:8080/"
        },
        "id": "FtAbxtu-HRVF",
        "outputId": "2d05d3cf-815e-4929-8689-1aa803c1ee2c"
      },
      "source": [
        "##Sample run #1\n",
        "# This program computes a customer’s monthly electricity bill\n",
        "Taxrate = 0.15\n",
        "Monthlyfeeofmeter = 10.00\n",
        "name = input(\"Enter your name:\") \n",
        "actualdays =float(input(\"Enter your bill actual number of days:\"))\n",
        "electricityconsumption = float(input(\"Enter your amount of electricity consumption: \"))\n",
        "import math                               \n",
        "if electricityconsumption <= 6000 : \n",
        "  Totalconsumptioncost = electricityconsumption * 18/100\n",
        "  Tax =  (  Totalconsumptioncost * Taxrate) \n",
        "  Billamount = ( Monthlyfeeofmeter + Totalconsumptioncost + Tax ) \n",
        "  print (\"Mr.\" , name , \" , your bill amount is\" , Billamount , \" SAR\" )\n",
        "  print (\"(\",Totalconsumptioncost,\"SAR total consumption cost,\",Tax ,\"SAR tax,\",Monthlyfeeofmeter,\"SAR monthly meter service\",\")\")\n",
        "else :\n",
        " Consumptionofthefirstcategory = actualdays * (6000/30)\n",
        " Consumptionofthesecondcategory = electricityconsumption - Consumptionofthefirstcategory\n",
        " Total = ( Consumptionofthefirstcategory * (18/100)) + ( Consumptionofthesecondcategory * (30/100))\n",
        " Tax =  round ((Total * Taxrate) , 2 )\n",
        " Billamount =  Monthlyfeeofmeter + Total + Tax ,\n",
        " print (\"Mr.\" , name , \" , your bill amount is\" , Billamount , \" SAR\" )\n",
        " print (\"(\",Total,\"SAR total consumption cost,\",Tax ,\"SAR tax,\",Monthlyfeeofmeter,\"SAR monthly meter service\",\")\")"
      ],
      "execution_count": null,
      "outputs": [
        {
          "output_type": "stream",
          "name": "stdout",
          "text": [
            "Enter your name:Ali\n",
            "Enter your bill actual number of days:27\n",
            "Enter your amount of electricity consumption: 7000\n",
            "Mr. Ali  , your bill amount is (1679.8,)  SAR\n",
            "( 1452.0 SAR total consumption cost, 217.8 SAR tax, 10.0 SAR monthly meter service )\n"
          ]
        }
      ]
    },
    {
      "cell_type": "code",
      "metadata": {
        "colab": {
          "base_uri": "https://localhost:8080/"
        },
        "id": "lltxWyjsHm_Z",
        "outputId": "ee0ae304-c0c0-48cf-a7cd-17448f871e00"
      },
      "source": [
        "##Sample run #2\n",
        "# This program computes a customer’s monthly electricity bill\n",
        "Taxrate = 0.15\n",
        "Monthlyfeeofmeter = 10.00\n",
        "name = input(\"Enter your name:\") \n",
        "actualdays =float(input(\"Enter your bill actual number of days:\"))\n",
        "electricityconsumption = float(input(\"Enter your amount of electricity consumption: \"))\n",
        "import math                               \n",
        "if electricityconsumption <= 6000 : \n",
        "  Totalconsumptioncost = electricityconsumption * 18/100\n",
        "  Tax =  (  Totalconsumptioncost * Taxrate) \n",
        "  Billamount = ( Monthlyfeeofmeter + Totalconsumptioncost + Tax ) \n",
        "  print (\"Mr.\" , name , \" , your bill amount is\" , Billamount , \" SAR\" )\n",
        "  print (\"(\",Totalconsumptioncost,\"SAR total consumption cost,\",Tax ,\"SAR tax,\",Monthlyfeeofmeter,\"SAR monthly meter service\",\")\")\n",
        "else:\n",
        " Consumptionofthefirstcategory = actualdays * (6000/30)\n",
        " Consumptionofthesecondcategory = electricityconsumption - Consumptionofthefirstcategory\n",
        " Total = ( Consumptionofthefirstcategory * (18/100)) + ( Consumptionofthesecondcategory * (30/100))\n",
        " Tax =  round ((Total * Taxrate) , 2 )\n",
        " Billamount =  Monthlyfeeofmeter + Total + Tax ,\n",
        " print (\"Mr.\" , name , \" , your bill amount is\" , Billamount , \" SAR\" )\n",
        " print (\"(\",Total,\"SAR total consumption cost,\",Tax ,\"SAR tax,\",Monthlyfeeofmeter,\"SAR monthly meter service\",\")\")"
      ],
      "execution_count": null,
      "outputs": [
        {
          "output_type": "stream",
          "name": "stdout",
          "text": [
            "Enter your name:Khaled\n",
            "Enter your bill actual number of days:28\n",
            "Enter your amount of electricity consumption: 5000\n",
            "Mr. Khaled  , your bill amount is 1045.0  SAR\n",
            "( 900.0 SAR total consumption cost, 135.0 SAR tax, 10.0 SAR monthly meter service )\n"
          ]
        }
      ]
    }
  ]
}